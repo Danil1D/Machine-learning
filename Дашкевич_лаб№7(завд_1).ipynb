{
  "cells": [
    {
      "cell_type": "markdown",
      "metadata": {
        "id": "view-in-github",
        "colab_type": "text"
      },
      "source": [
        "<a href=\"https://colab.research.google.com/github/Danil1D/Machine-learning/blob/main/%D0%94%D0%B0%D1%88%D0%BA%D0%B5%D0%B2%D0%B8%D1%87_%D0%BB%D0%B0%D0%B1%E2%84%967(%D0%B7%D0%B0%D0%B2%D0%B4_1).ipynb\" target=\"_parent\"><img src=\"https://colab.research.google.com/assets/colab-badge.svg\" alt=\"Open In Colab\"/></a>"
      ]
    },
    {
      "cell_type": "code",
      "execution_count": 14,
      "metadata": {
        "colab": {
          "base_uri": "https://localhost:8080/"
        },
        "id": "AI9VXkqmG6kG",
        "outputId": "9316ecba-cfd7-4cec-bdbc-e6fd143cca56"
      },
      "outputs": [
        {
          "output_type": "stream",
          "name": "stdout",
          "text": [
            "Requirement already satisfied: scikit-surprise in /usr/local/lib/python3.10/dist-packages (1.1.4)\n",
            "Requirement already satisfied: joblib>=1.2.0 in /usr/local/lib/python3.10/dist-packages (from scikit-surprise) (1.4.2)\n",
            "Requirement already satisfied: numpy>=1.19.5 in /usr/local/lib/python3.10/dist-packages (from scikit-surprise) (1.26.4)\n",
            "Requirement already satisfied: scipy>=1.6.0 in /usr/local/lib/python3.10/dist-packages (from scikit-surprise) (1.13.1)\n",
            "[('196', '242', 3.0, '881250949'), ('186', '302', 3.0, '891717742'), ('22', '377', 1.0, '878887116'), ('244', '51', 2.0, '880606923'), ('166', '346', 1.0, '886397596')]\n"
          ]
        }
      ],
      "source": [
        "# 1. Завантаження датасету\n",
        "!pip install scikit-surprise\n",
        "from surprise import Dataset\n",
        "from surprise import Reader\n",
        "from surprise.model_selection import cross_validate\n",
        "from surprise import KNNBasic, SVD\n",
        "\n",
        "data = Dataset.load_builtin('ml-100k')\n",
        "\n",
        "dataset = data.raw_ratings\n",
        "print(dataset[:5])\n"
      ]
    },
    {
      "cell_type": "code",
      "execution_count": 15,
      "metadata": {
        "colab": {
          "base_uri": "https://localhost:8080/"
        },
        "id": "h6y9kjNJGuBY",
        "outputId": "ed79253d-c77d-4f35-ee7c-5c632764f729"
      },
      "outputs": [
        {
          "output_type": "stream",
          "name": "stdout",
          "text": [
            "[('196', '242', 3.0, '881250949'), ('186', '302', 3.0, '891717742'), ('22', '377', 1.0, '878887116'), ('244', '51', 2.0, '880606923'), ('166', '346', 1.0, '886397596')]\n"
          ]
        }
      ],
      "source": [
        "# 2. Виведення перших 5 рядків\n",
        "dataset = data.raw_ratings\n",
        "print(dataset[:5])"
      ]
    },
    {
      "cell_type": "code",
      "execution_count": 16,
      "metadata": {
        "id": "ialOdFgqHLFl",
        "colab": {
          "base_uri": "https://localhost:8080/"
        },
        "outputId": "866b59ba-a630-4065-cde8-5a70c7641a91"
      },
      "outputs": [
        {
          "output_type": "stream",
          "name": "stdout",
          "text": [
            "Computing the msd similarity matrix...\n",
            "Done computing similarity matrix.\n"
          ]
        }
      ],
      "source": [
        "# 3. Реалізація двох алгоритмів\n",
        "from surprise.model_selection import train_test_split\n",
        "trainset, testset = train_test_split(data, test_size=0.2)\n",
        "\n",
        "algo_knn = KNNBasic()\n",
        "algo_knn.fit(trainset)\n",
        "predictions_knn = algo_knn.test(testset)\n",
        "\n",
        "algo_svd = SVD()\n",
        "algo_svd.fit(trainset)\n",
        "predictions_svd = algo_svd.test(testset)\n"
      ]
    },
    {
      "cell_type": "code",
      "source": [
        "# 4. Крос-валідація для підбору оптимальних параметрів\n",
        "knn_results = cross_validate(algo_knn, data, measures=['MAE'], cv=5, verbose=True)\n",
        "\n",
        "svd_results = cross_validate(algo_svd, data, measures=['MAE'], cv=5, verbose=True)\n"
      ],
      "metadata": {
        "colab": {
          "base_uri": "https://localhost:8080/"
        },
        "id": "7lPMBjyVKByY",
        "outputId": "6ceefc0c-17ab-4619-d3f1-7035f594bf8e"
      },
      "execution_count": 17,
      "outputs": [
        {
          "output_type": "stream",
          "name": "stdout",
          "text": [
            "Computing the msd similarity matrix...\n",
            "Done computing similarity matrix.\n",
            "Computing the msd similarity matrix...\n",
            "Done computing similarity matrix.\n",
            "Computing the msd similarity matrix...\n",
            "Done computing similarity matrix.\n",
            "Computing the msd similarity matrix...\n",
            "Done computing similarity matrix.\n",
            "Computing the msd similarity matrix...\n",
            "Done computing similarity matrix.\n",
            "Evaluating MAE of algorithm KNNBasic on 5 split(s).\n",
            "\n",
            "                  Fold 1  Fold 2  Fold 3  Fold 4  Fold 5  Mean    Std     \n",
            "MAE (testset)     0.7780  0.7778  0.7732  0.7671  0.7692  0.7731  0.0044  \n",
            "Fit time          0.40    0.57    0.43    0.41    0.57    0.48    0.08    \n",
            "Test time         7.32    4.36    3.52    3.91    4.11    4.65    1.36    \n",
            "Evaluating MAE of algorithm SVD on 5 split(s).\n",
            "\n",
            "                  Fold 1  Fold 2  Fold 3  Fold 4  Fold 5  Mean    Std     \n",
            "MAE (testset)     0.7387  0.7401  0.7384  0.7366  0.7359  0.7379  0.0015  \n",
            "Fit time          1.55    1.60    1.59    2.14    1.82    1.74    0.22    \n",
            "Test time         0.25    0.14    0.14    0.23    0.13    0.18    0.05    \n"
          ]
        }
      ]
    },
    {
      "cell_type": "code",
      "source": [
        "# 5. Вибір найкращого алгоритму\n",
        "knn_mae = sum(knn_results['test_mae']) / len(knn_results['test_mae'])\n",
        "svd_mae = sum(svd_results['test_mae']) / len(svd_results['test_mae'])\n",
        "\n",
        "print(f\"Середня MAE для KNN: {knn_mae}\")\n",
        "print(f\"Середня MAE для SVD: {svd_mae}\")\n",
        "\n",
        "if knn_mae < svd_mae:\n",
        "    print(\"KNN має кращий результат з меншою MAE.\")\n",
        "    best_algo = algo_knn\n",
        "else:\n",
        "    print(\"SVD має кращий результат з меншою MAE.\")\n",
        "    best_algo = algo_svd"
      ],
      "metadata": {
        "colab": {
          "base_uri": "https://localhost:8080/"
        },
        "id": "8EU1WmSNKLIT",
        "outputId": "adae9cf6-314b-41b0-c50d-e90cb875fbc9"
      },
      "execution_count": 18,
      "outputs": [
        {
          "output_type": "stream",
          "name": "stdout",
          "text": [
            "Середня MAE для KNN: 0.7730610288384472\n",
            "Середня MAE для SVD: 0.7379369739399786\n",
            "SVD має кращий результат з меншою MAE.\n"
          ]
        }
      ]
    },
    {
      "cell_type": "code",
      "source": [
        "# 6. Виведення рекомендацій для конкретного користувача\n",
        "user_id = str(196)\n",
        "items = data.build_full_trainset().all_items()\n",
        "items = list(map(str, items))\n",
        "\n",
        "predictions = [algo_svd.predict(user_id, item) for item in items]\n",
        "top_predictions = sorted(predictions, key=lambda x: x.est, reverse=True)[:10]\n",
        "\n",
        "recommended_items = [pred.iid for pred in top_predictions]\n",
        "print(\"Топ-10 фільмів для користувача з ID 196:\", recommended_items)\n"
      ],
      "metadata": {
        "colab": {
          "base_uri": "https://localhost:8080/"
        },
        "id": "-iUWdyATKRzo",
        "outputId": "bca2e120-f605-48d7-f30c-f517645b878b"
      },
      "execution_count": 19,
      "outputs": [
        {
          "output_type": "stream",
          "name": "stdout",
          "text": [
            "Топ-10 фільмів для користувача з ID 196: ['127', '272', '64', '483', '197', '286', '178', '427', '357', '318']\n"
          ]
        }
      ]
    }
  ],
  "metadata": {
    "colab": {
      "provenance": [],
      "authorship_tag": "ABX9TyNp7dGiD+rxKR1uoZT6Hz/j",
      "include_colab_link": true
    },
    "kernelspec": {
      "display_name": "Python 3",
      "name": "python3"
    },
    "language_info": {
      "name": "python"
    }
  },
  "nbformat": 4,
  "nbformat_minor": 0
}