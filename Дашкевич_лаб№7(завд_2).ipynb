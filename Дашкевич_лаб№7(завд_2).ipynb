{
  "nbformat": 4,
  "nbformat_minor": 0,
  "metadata": {
    "colab": {
      "provenance": [],
      "authorship_tag": "ABX9TyNQMdaQ6c1FZmd9cIeqR/WR",
      "include_colab_link": true
    },
    "kernelspec": {
      "name": "python3",
      "display_name": "Python 3"
    },
    "language_info": {
      "name": "python"
    }
  },
  "cells": [
    {
      "cell_type": "markdown",
      "metadata": {
        "id": "view-in-github",
        "colab_type": "text"
      },
      "source": [
        "<a href=\"https://colab.research.google.com/github/Danil1D/Machine-learning/blob/main/%D0%94%D0%B0%D1%88%D0%BA%D0%B5%D0%B2%D0%B8%D1%87_%D0%BB%D0%B0%D0%B1%E2%84%967(%D0%B7%D0%B0%D0%B2%D0%B4_2).ipynb\" target=\"_parent\"><img src=\"https://colab.research.google.com/assets/colab-badge.svg\" alt=\"Open In Colab\"/></a>"
      ]
    },
    {
      "cell_type": "code",
      "execution_count": 10,
      "metadata": {
        "colab": {
          "base_uri": "https://localhost:8080/"
        },
        "id": "YF637B4TLn1I",
        "outputId": "865f8c86-f7d8-4b67-9a71-8a0daf71c9e7"
      },
      "outputs": [
        {
          "output_type": "stream",
          "name": "stdout",
          "text": [
            "Requirement already satisfied: scikit-surprise in /usr/local/lib/python3.10/dist-packages (1.1.4)\n",
            "Requirement already satisfied: joblib>=1.2.0 in /usr/local/lib/python3.10/dist-packages (from scikit-surprise) (1.4.2)\n",
            "Requirement already satisfied: numpy>=1.19.5 in /usr/local/lib/python3.10/dist-packages (from scikit-surprise) (1.26.4)\n",
            "Requirement already satisfied: scipy>=1.6.0 in /usr/local/lib/python3.10/dist-packages (from scikit-surprise) (1.13.1)\n",
            "Середній рейтинг для всіх фільмів: 3.52986\n"
          ]
        }
      ],
      "source": [
        "# 1. Побудова власної простої рекомендаційної системи на основі середнього рейтингу\n",
        "!pip install scikit-surprise\n",
        "\n",
        "from surprise import Dataset\n",
        "import numpy as np\n",
        "\n",
        "data = Dataset.load_builtin('ml-100k')\n",
        "\n",
        "trainset = data.build_full_trainset()\n",
        "\n",
        "global_mean = np.mean([rating for (_, _, rating) in trainset.all_ratings()])\n",
        "\n",
        "movie_ratings = {}\n",
        "for (_, movie_id, rating) in trainset.all_ratings():\n",
        "    if movie_id not in movie_ratings:\n",
        "        movie_ratings[movie_id] = []\n",
        "    movie_ratings[movie_id].append(rating)\n",
        "\n",
        "movie_mean_ratings = {movie_id: np.mean(ratings) for movie_id, ratings in movie_ratings.items()}\n",
        "\n",
        "print(\"Середній рейтинг для всіх фільмів:\", global_mean)\n",
        "\n",
        "\n",
        "\n"
      ]
    },
    {
      "cell_type": "code",
      "source": [
        "# 2. Отримання рекомендації для певного користувача\n",
        "def recommend_top_movies(user_id, n=10):\n",
        "    sorted_movies = sorted(movie_mean_ratings.items(), key=lambda x: x[1], reverse=True)\n",
        "    top_n_movies = [movie_id for movie_id, _ in sorted_movies[:n]]\n",
        "    return top_n_movies\n",
        "\n",
        "top_movies = recommend_top_movies(196)\n",
        "print(\"Топ-10 фільмів для користувача 196:\", top_movies)\n",
        "\n"
      ],
      "metadata": {
        "colab": {
          "base_uri": "https://localhost:8080/"
        },
        "id": "4saPAL5aLsJt",
        "outputId": "d8b8a5f1-087b-4ffb-9ecb-cab8365d0b99"
      },
      "execution_count": 11,
      "outputs": [
        {
          "output_type": "stream",
          "name": "stdout",
          "text": [
            "Топ-10 фільмів для користувача 196: [1619, 1038, 1150, 1646, 1130, 1647, 1436, 1297, 1562, 1579]\n"
          ]
        }
      ]
    },
    {
      "cell_type": "markdown",
      "source": [
        "Висновки:\n",
        "Під час виконання цієї лабораторної роботи було використано бібліотеку Surprise для побудови двох алгоритмів рекомендаційних систем. Було оцінено їх ефективність за допомогою крос-валідації та обрано найкращий алгоритм на основі показника MAE. Крім того, була створена власна спрощена система рекомендацій для оцінки її якості."
      ],
      "metadata": {
        "id": "s0GvavR0L1mh"
      }
    }
  ]
}