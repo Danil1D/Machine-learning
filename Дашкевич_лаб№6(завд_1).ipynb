{
  "nbformat": 4,
  "nbformat_minor": 0,
  "metadata": {
    "colab": {
      "provenance": [],
      "authorship_tag": "ABX9TyOAjB8EoslUDI/aj7vcy4Vz",
      "include_colab_link": true
    },
    "kernelspec": {
      "name": "python3",
      "display_name": "Python 3"
    },
    "language_info": {
      "name": "python"
    }
  },
  "cells": [
    {
      "cell_type": "markdown",
      "metadata": {
        "id": "view-in-github",
        "colab_type": "text"
      },
      "source": [
        "<a href=\"https://colab.research.google.com/github/Danil1D/Machine-learning/blob/main/%D0%94%D0%B0%D1%88%D0%BA%D0%B5%D0%B2%D0%B8%D1%87_%D0%BB%D0%B0%D0%B1%E2%84%966(%D0%B7%D0%B0%D0%B2%D0%B4_1).ipynb\" target=\"_parent\"><img src=\"https://colab.research.google.com/assets/colab-badge.svg\" alt=\"Open In Colab\"/></a>"
      ]
    },
    {
      "cell_type": "code",
      "execution_count": 2,
      "metadata": {
        "id": "DOkeFF7VWjv7"
      },
      "outputs": [],
      "source": [
        "import numpy as np\n",
        "import pandas as pd\n",
        "import matplotlib.pyplot as plt\n",
        "from sklearn.model_selection import train_test_split, cross_val_score\n",
        "from sklearn.linear_model import LinearRegression, Ridge, Lasso\n",
        "from sklearn.metrics import mean_squared_error, r2_score\n",
        "from sklearn.datasets import fetch_california_housing\n",
        "\n",
        "# 1. Завантаження та підготовка даних\n",
        "data = fetch_california_housing()\n",
        "X = pd.DataFrame(data.data, columns=data.feature_names)\n",
        "y = data.target\n",
        "\n",
        "X_train, X_test, y_train, y_test = train_test_split(X, y, test_size=0.2, random_state=42)"
      ]
    },
    {
      "cell_type": "code",
      "source": [
        "# 2. Побудова базової лінійної регресійної моделі\n",
        "lin_reg = LinearRegression()\n",
        "lin_reg.fit(X_train, y_train)\n",
        "\n",
        "y_train_pred = lin_reg.predict(X_train)\n",
        "y_test_pred = lin_reg.predict(X_test)\n",
        "\n",
        "mse_train = mean_squared_error(y_train, y_train_pred)\n",
        "mse_test = mean_squared_error(y_test, y_test_pred)\n",
        "r2_train = r2_score(y_train, y_train_pred)\n",
        "r2_test = r2_score(y_test, y_test_pred)\n",
        "\n",
        "print(f'Базова модель:')\n",
        "print(f'MSE на навчальній вибірці: {mse_train}')\n",
        "print(f'MSE на тестовій вибірці: {mse_test}')\n",
        "print(f'R^2 на навчальній вибірці: {r2_train}')\n",
        "print(f'R^2 на тестовій вибірці: {r2_test}')"
      ],
      "metadata": {
        "colab": {
          "base_uri": "https://localhost:8080/"
        },
        "id": "G8pqzkeRXVhU",
        "outputId": "f253a708-1499-479d-b214-c27638a9b6b3"
      },
      "execution_count": 3,
      "outputs": [
        {
          "output_type": "stream",
          "name": "stdout",
          "text": [
            "Базова модель:\n",
            "MSE на навчальній вибірці: 0.5179331255246699\n",
            "MSE на тестовій вибірці: 0.5558915986952444\n",
            "R^2 на навчальній вибірці: 0.6125511913966952\n",
            "R^2 на тестовій вибірці: 0.5757877060324508\n"
          ]
        }
      ]
    },
    {
      "cell_type": "code",
      "source": [
        "# 3. Аналіз перенавчання\n",
        "y_train_pred = lin_reg.predict(X_train)\n",
        "y_test_pred = lin_reg.predict(X_test)\n",
        "\n",
        "mse_train = mean_squared_error(y_train, y_train_pred)\n",
        "mse_test = mean_squared_error(y_test, y_test_pred)\n",
        "r2_train = r2_score(y_train, y_train_pred)\n",
        "r2_test = r2_score(y_test, y_test_pred)\n",
        "\n",
        "print(f'Навчальна вибірка:')\n",
        "print(f'MSE на навчальній вибірці: {mse_train}')\n",
        "print(f'R² на навчальній вибірці: {r2_train}')\n",
        "print(f'\\nТестова вибірка:')\n",
        "print(f'MSE на тестовій вибірці: {mse_test}')\n",
        "print(f'R² на тестовій вибірці: {r2_test}')\n",
        "\n",
        "if mse_train < mse_test:\n",
        "    print(\"\\nМодель перенавчена: вона показує кращі результати на навчальних даних.\")\n",
        "else:\n",
        "    print(\"\\nМодель не перенавчена.\")"
      ],
      "metadata": {
        "colab": {
          "base_uri": "https://localhost:8080/"
        },
        "id": "1m3Sv-QPXcm_",
        "outputId": "d280b6d7-d083-4ab0-9918-ada1bb523cf1"
      },
      "execution_count": 4,
      "outputs": [
        {
          "output_type": "stream",
          "name": "stdout",
          "text": [
            "Навчальна вибірка:\n",
            "MSE на навчальній вибірці: 0.5179331255246699\n",
            "R² на навчальній вибірці: 0.6125511913966952\n",
            "\n",
            "Тестова вибірка:\n",
            "MSE на тестовій вибірці: 0.5558915986952444\n",
            "R² на тестовій вибірці: 0.5757877060324508\n",
            "\n",
            "Модель перенавчена: вона показує кращі результати на навчальних даних.\n"
          ]
        }
      ]
    },
    {
      "cell_type": "code",
      "source": [
        "# 4. Запобігання перенавчанню\n",
        "ridge_reg = Ridge(alpha=1)\n",
        "ridge_reg.fit(X_train, y_train)\n",
        "\n",
        "y_test_pred_ridge = ridge_reg.predict(X_test)\n",
        "mse_test_ridge = mean_squared_error(y_test, y_test_pred_ridge)\n",
        "r2_test_ridge = r2_score(y_test, y_test_pred_ridge)\n",
        "\n",
        "print(f'Ridge регресія (L2 регуляризація):')\n",
        "print(f'MSE на тестовій вибірці: {mse_test_ridge}')\n",
        "print(f'R^2 на тестовій вибірці: {r2_test_ridge}')\n",
        "\n",
        "lasso_reg = Lasso(alpha=0.1)\n",
        "lasso_reg.fit(X_train, y_train)\n",
        "\n",
        "y_test_pred_lasso = lasso_reg.predict(X_test)\n",
        "mse_test_lasso = mean_squared_error(y_test, y_test_pred_lasso)\n",
        "r2_test_lasso = r2_score(y_test, y_test_pred_lasso)\n",
        "\n",
        "print(f'Lasso регресія (L1 регуляризація):')\n",
        "print(f'MSE на тестовій вибірці: {mse_test_lasso}')\n",
        "print(f'R^2 на тестовій вибірці: {r2_test_lasso}')"
      ],
      "metadata": {
        "colab": {
          "base_uri": "https://localhost:8080/"
        },
        "id": "WTzMpTpPX1JM",
        "outputId": "782133f0-2e40-4158-d472-bf02ddd3966b"
      },
      "execution_count": 5,
      "outputs": [
        {
          "output_type": "stream",
          "name": "stdout",
          "text": [
            "Ridge регресія (L2 регуляризація):\n",
            "MSE на тестовій вибірці: 0.5558034669932211\n",
            "R^2 на тестовій вибірці: 0.5758549611440126\n",
            "Lasso регресія (L1 регуляризація):\n",
            "MSE на тестовій вибірці: 0.6135115198058131\n",
            "R^2 на тестовій вибірці: 0.5318167610318159\n"
          ]
        }
      ]
    },
    {
      "cell_type": "code",
      "source": [
        "# 5. Оцінка результатів\n",
        "print('\\nПорівняння моделей:')\n",
        "print(f'Лінійна регресія: MSE на тестовій вибірці: {mse_test}, R^2: {r2_test}')\n",
        "print(f'Ridge регресія: MSE на тестовій вибірці: {mse_test_ridge}, R^2: {r2_test_ridge}')\n",
        "print(f'Lasso регресія: MSE на тестовій вибірці: {mse_test_lasso}, R^2: {r2_test_lasso}')\n"
      ],
      "metadata": {
        "colab": {
          "base_uri": "https://localhost:8080/"
        },
        "id": "75wGVbT1aR0i",
        "outputId": "e8c8c448-7a13-462a-c798-7399cbe1f334"
      },
      "execution_count": 6,
      "outputs": [
        {
          "output_type": "stream",
          "name": "stdout",
          "text": [
            "\n",
            "Порівняння моделей:\n",
            "Лінійна регресія: MSE на тестовій вибірці: 0.5558915986952444, R^2: 0.5757877060324508\n",
            "Ridge регресія: MSE на тестовій вибірці: 0.5558034669932211, R^2: 0.5758549611440126\n",
            "Lasso регресія: MSE на тестовій вибірці: 0.6135115198058131, R^2: 0.5318167610318159\n"
          ]
        }
      ]
    },
    {
      "cell_type": "code",
      "source": [
        "# 6. Візуалізація залежності помилки від гіперпараметра регуляризації\n",
        "alphas = np.logspace(-3, 3, 100)\n",
        "ridge_errors = []\n",
        "lasso_errors = []\n",
        "\n",
        "for alpha in alphas:\n",
        "    ridge_reg = Ridge(alpha=alpha)\n",
        "    lasso_reg = Lasso(alpha=alpha)\n",
        "\n",
        "    ridge_reg.fit(X_train, y_train)\n",
        "    lasso_reg.fit(X_train, y_train)\n",
        "\n",
        "    ridge_pred = ridge_reg.predict(X_test)\n",
        "    lasso_pred = lasso_reg.predict(X_test)\n",
        "\n",
        "    ridge_errors.append(mean_squared_error(y_test, ridge_pred))\n",
        "    lasso_errors.append(mean_squared_error(y_test, lasso_pred))\n",
        "\n",
        "plt.figure(figsize=(10, 6))\n",
        "plt.plot(alphas, ridge_errors, label='Ridge Error', color='b')\n",
        "plt.plot(alphas, lasso_errors, label='Lasso Error', color='r')\n",
        "plt.xscale('log')\n",
        "plt.xlabel('Alpha')\n",
        "plt.ylabel('MSE')\n",
        "plt.title('Залежність MSE від гіперпараметра регуляризації')\n",
        "plt.legend()\n",
        "plt.show()\n"
      ],
      "metadata": {
        "colab": {
          "base_uri": "https://localhost:8080/",
          "height": 569
        },
        "id": "HDX4-0dkaUa4",
        "outputId": "cfc6c853-1df2-4438-a844-bbbed2ba8482"
      },
      "execution_count": 7,
      "outputs": [
        {
          "output_type": "display_data",
          "data": {
            "text/plain": [
              "<Figure size 1000x600 with 1 Axes>"
            ],
            "image/png": "[encoded data removed]"
          },
          "metadata": {}
        }
      ]
    }
  ]
}