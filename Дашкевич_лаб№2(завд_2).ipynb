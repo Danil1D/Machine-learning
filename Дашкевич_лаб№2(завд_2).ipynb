{
  "nbformat": 4,
  "nbformat_minor": 0,
  "metadata": {
    "colab": {
      "provenance": [],
      "authorship_tag": "ABX9TyNGsL+uglZwqm5CCy4Lvzws",
      "include_colab_link": true
    },
    "kernelspec": {
      "name": "python3",
      "display_name": "Python 3"
    },
    "language_info": {
      "name": "python"
    }
  },
  "cells": [
    {
      "cell_type": "markdown",
      "metadata": {
        "id": "view-in-github",
        "colab_type": "text"
      },
      "source": [
        "<a href=\"https://colab.research.google.com/github/Danil1D/Machine-learning/blob/main/%D0%94%D0%B0%D1%88%D0%BA%D0%B5%D0%B2%D0%B8%D1%87_%D0%BB%D0%B0%D0%B1%E2%84%962(%D0%B7%D0%B0%D0%B2%D0%B4_2).ipynb\" target=\"_parent\"><img src=\"https://colab.research.google.com/assets/colab-badge.svg\" alt=\"Open In Colab\"/></a>"
      ]
    },
    {
      "cell_type": "code",
      "execution_count": 9,
      "metadata": {
        "id": "hCwO4SUm_jed",
        "colab": {
          "base_uri": "https://localhost:8080/"
        },
        "outputId": "11af6997-8a2a-4a76-ceb8-ffb4b861a86e"
      },
      "outputs": [
        {
          "output_type": "stream",
          "name": "stdout",
          "text": [
            "Перші 5 рядків датасету:\n",
            "   PassengerId  Survived  Pclass  \\\n",
            "0          892         0       3   \n",
            "1          893         1       3   \n",
            "2          894         0       2   \n",
            "3          895         0       3   \n",
            "4          896         1       3   \n",
            "\n",
            "                                           Name     Sex   Age  SibSp  Parch  \\\n",
            "0                              Kelly, Mr. James    male  34.5      0      0   \n",
            "1              Wilkes, Mrs. James (Ellen Needs)  female  47.0      1      0   \n",
            "2                     Myles, Mr. Thomas Francis    male  62.0      0      0   \n",
            "3                              Wirz, Mr. Albert    male  27.0      0      0   \n",
            "4  Hirvonen, Mrs. Alexander (Helga E Lindqvist)  female  22.0      1      1   \n",
            "\n",
            "    Ticket     Fare Cabin Embarked  \n",
            "0   330911   7.8292   NaN        Q  \n",
            "1   363272   7.0000   NaN        S  \n",
            "2   240276   9.6875   NaN        Q  \n",
            "3   315154   8.6625   NaN        S  \n",
            "4  3101298  12.2875   NaN        S  \n"
          ]
        }
      ],
      "source": [
        "# 1. Вивести перші 5 рядків\n",
        "import pandas as pd\n",
        "\n",
        "file_path = 'titanic.csv'\n",
        "titanic_data = pd.read_csv(file_path)\n",
        "\n",
        "print(\"Перші 5 рядків датасету:\")\n",
        "print(titanic_data.head())"
      ]
    },
    {
      "cell_type": "code",
      "source": [
        "# 2. Визначити розмір датасету\n",
        "print(\"\\nРозмір датасету:\")\n",
        "print(titanic_data.shape)"
      ],
      "metadata": {
        "colab": {
          "base_uri": "https://localhost:8080/"
        },
        "id": "hgkKyz8nKYfP",
        "outputId": "51af929e-1eeb-475b-dd6e-4904b47c0db9"
      },
      "execution_count": 10,
      "outputs": [
        {
          "output_type": "stream",
          "name": "stdout",
          "text": [
            "\n",
            "Розмір датасету:\n",
            "(418, 12)\n"
          ]
        }
      ]
    },
    {
      "cell_type": "code",
      "source": [
        "# 3. Визначити тип даних\n",
        "print(\"\\nТипи даних у кожному стовпці:\")\n",
        "print(titanic_data.dtypes)"
      ],
      "metadata": {
        "colab": {
          "base_uri": "https://localhost:8080/"
        },
        "id": "37lmDoWGKaYJ",
        "outputId": "e98366e1-c4db-4239-82d3-a1ccf9de1f0f"
      },
      "execution_count": 11,
      "outputs": [
        {
          "output_type": "stream",
          "name": "stdout",
          "text": [
            "\n",
            "Типи даних у кожному стовпці:\n",
            "PassengerId      int64\n",
            "Survived         int64\n",
            "Pclass           int64\n",
            "Name            object\n",
            "Sex             object\n",
            "Age            float64\n",
            "SibSp            int64\n",
            "Parch            int64\n",
            "Ticket          object\n",
            "Fare           float64\n",
            "Cabin           object\n",
            "Embarked        object\n",
            "dtype: object\n"
          ]
        }
      ]
    },
    {
      "cell_type": "code",
      "source": [
        "# 4. Визначити наявність пропущених значень\n",
        "print(\"\\nКількість пропущених значень у кожному стовпці до заміни:\")\n",
        "print(titanic_data.isnull().sum())\n",
        "\n",
        "titanic_data.fillna(titanic_data.mean(numeric_only=True), inplace=True)"
      ],
      "metadata": {
        "colab": {
          "base_uri": "https://localhost:8080/"
        },
        "id": "EOrCoTuVKcQs",
        "outputId": "473b55ce-dbb6-47fc-d9ac-099f73d96faa"
      },
      "execution_count": 12,
      "outputs": [
        {
          "output_type": "stream",
          "name": "stdout",
          "text": [
            "\n",
            "Кількість пропущених значень у кожному стовпці до заміни:\n",
            "PassengerId      0\n",
            "Survived         0\n",
            "Pclass           0\n",
            "Name             0\n",
            "Sex              0\n",
            "Age             86\n",
            "SibSp            0\n",
            "Parch            0\n",
            "Ticket           0\n",
            "Fare             1\n",
            "Cabin          327\n",
            "Embarked         0\n",
            "dtype: int64\n"
          ]
        }
      ]
    },
    {
      "cell_type": "code",
      "source": [
        "# 5. Ще раз перевірити наявність пропущених значень\n",
        "print(\"\\nКількість пропущених значень у кожному стовпці після заміни:\")\n",
        "print(titanic_data.isnull().sum())"
      ],
      "metadata": {
        "colab": {
          "base_uri": "https://localhost:8080/"
        },
        "id": "1Q3LYMgUKd73",
        "outputId": "f9bd0e54-3249-46ef-e8e1-d82ed1316c67"
      },
      "execution_count": 13,
      "outputs": [
        {
          "output_type": "stream",
          "name": "stdout",
          "text": [
            "\n",
            "Кількість пропущених значень у кожному стовпці після заміни:\n",
            "PassengerId      0\n",
            "Survived         0\n",
            "Pclass           0\n",
            "Name             0\n",
            "Sex              0\n",
            "Age              0\n",
            "SibSp            0\n",
            "Parch            0\n",
            "Ticket           0\n",
            "Fare             0\n",
            "Cabin          327\n",
            "Embarked         0\n",
            "dtype: int64\n"
          ]
        }
      ]
    },
    {
      "cell_type": "code",
      "source": [
        "# 6. Перевірити наявність дублікатів\n",
        "duplicates = titanic_data.duplicated().sum()\n",
        "print(f\"\\nКількість дублікатів: {duplicates}\")\n",
        "\n",
        "# Видалити дублікати, якщо вони є\n",
        "if duplicates > 0:\n",
        "    titanic_data.drop_duplicates(inplace=True)"
      ],
      "metadata": {
        "colab": {
          "base_uri": "https://localhost:8080/"
        },
        "id": "m2JivcSBKfYC",
        "outputId": "4933dc3e-061a-4ae2-a21a-3bf7112d856e"
      },
      "execution_count": 14,
      "outputs": [
        {
          "output_type": "stream",
          "name": "stdout",
          "text": [
            "\n",
            "Кількість дублікатів: 0\n"
          ]
        }
      ]
    },
    {
      "cell_type": "code",
      "source": [
        "# 7. Вивести описову статистику датасету\n",
        "print(\"\\nОписова статистика датасету:\")\n",
        "print(titanic_data.describe())"
      ],
      "metadata": {
        "colab": {
          "base_uri": "https://localhost:8080/"
        },
        "id": "QsBWviteKg7s",
        "outputId": "21a7af9e-ac64-49dc-d8f7-06e7d879fed6"
      },
      "execution_count": 15,
      "outputs": [
        {
          "output_type": "stream",
          "name": "stdout",
          "text": [
            "\n",
            "Описова статистика датасету:\n",
            "       PassengerId    Survived      Pclass         Age       SibSp  \\\n",
            "count   418.000000  418.000000  418.000000  418.000000  418.000000   \n",
            "mean   1100.500000    0.363636    2.265550   30.272590    0.447368   \n",
            "std     120.810458    0.481622    0.841838   12.634534    0.896760   \n",
            "min     892.000000    0.000000    1.000000    0.170000    0.000000   \n",
            "25%     996.250000    0.000000    1.000000   23.000000    0.000000   \n",
            "50%    1100.500000    0.000000    3.000000   30.272590    0.000000   \n",
            "75%    1204.750000    1.000000    3.000000   35.750000    1.000000   \n",
            "max    1309.000000    1.000000    3.000000   76.000000    8.000000   \n",
            "\n",
            "            Parch        Fare  \n",
            "count  418.000000  418.000000  \n",
            "mean     0.392344   35.627188  \n",
            "std      0.981429   55.840500  \n",
            "min      0.000000    0.000000  \n",
            "25%      0.000000    7.895800  \n",
            "50%      0.000000   14.454200  \n",
            "75%      0.000000   31.500000  \n",
            "max      9.000000  512.329200  \n"
          ]
        }
      ]
    },
    {
      "cell_type": "code",
      "source": [
        "# 8. Видалити стовпчик Cabin\n",
        "titanic_data.drop(columns=['Cabin'], inplace=True)"
      ],
      "metadata": {
        "id": "tpKYfnhZKiKc"
      },
      "execution_count": 16,
      "outputs": []
    },
    {
      "cell_type": "code",
      "source": [
        "# 9. Сформувати датасет з обраними стовпцями\n",
        "selected_columns = ['Survived', 'Pclass', 'Sex', 'Age', 'Fare']\n",
        "selected_data = titanic_data.loc[:, selected_columns]"
      ],
      "metadata": {
        "id": "2UXkeB9rKlAV"
      },
      "execution_count": 17,
      "outputs": []
    },
    {
      "cell_type": "code",
      "source": [
        "# 10. Замінити бінарні ознаки (Стать) на 0 і 1\n",
        "unique_sex_values = selected_data['Sex'].unique()\n",
        "print(f\"\\nУнікальні значення у стовпчику 'Sex' перед заміною: {unique_sex_values}\")\n",
        "selected_data.loc[:, 'Sex'] = selected_data['Sex'].map({'male': 0, 'female': 1})"
      ],
      "metadata": {
        "colab": {
          "base_uri": "https://localhost:8080/"
        },
        "id": "ChjyxXZ7KmqH",
        "outputId": "4bedc7e7-d78f-4056-c4d7-68288414a85f"
      },
      "execution_count": 18,
      "outputs": [
        {
          "output_type": "stream",
          "name": "stdout",
          "text": [
            "\n",
            "Унікальні значення у стовпчику 'Sex' перед заміною: ['male' 'female']\n"
          ]
        }
      ]
    },
    {
      "cell_type": "code",
      "source": [
        "# 11. Ще раз перевірити кількість пропущених даних\n",
        "print(\"\\nКількість пропущених даних у кожному стовпці:\")\n",
        "print(selected_data.isnull().sum())"
      ],
      "metadata": {
        "colab": {
          "base_uri": "https://localhost:8080/"
        },
        "id": "3h4IcQKDKodX",
        "outputId": "e24cbda7-b570-40e3-e1aa-f9415d006e85"
      },
      "execution_count": 19,
      "outputs": [
        {
          "output_type": "stream",
          "name": "stdout",
          "text": [
            "\n",
            "Кількість пропущених даних у кожному стовпці:\n",
            "Survived    0\n",
            "Pclass      0\n",
            "Sex         0\n",
            "Age         0\n",
            "Fare        0\n",
            "dtype: int64\n"
          ]
        }
      ]
    },
    {
      "cell_type": "code",
      "source": [
        "# 12. Вивести 5 перших рядків датасету\n",
        "print(\"\\nПерші 5 рядків нового датасету:\")\n",
        "print(selected_data.head())"
      ],
      "metadata": {
        "colab": {
          "base_uri": "https://localhost:8080/"
        },
        "id": "xNeQ-Y75Kpy5",
        "outputId": "69e7a1f9-4569-4461-a583-aff6f5dd3135"
      },
      "execution_count": 20,
      "outputs": [
        {
          "output_type": "stream",
          "name": "stdout",
          "text": [
            "\n",
            "Перші 5 рядків нового датасету:\n",
            "   Survived  Pclass Sex   Age     Fare\n",
            "0         0       3   0  34.5   7.8292\n",
            "1         1       3   1  47.0   7.0000\n",
            "2         0       2   0  62.0   9.6875\n",
            "3         0       3   0  27.0   8.6625\n",
            "4         1       3   1  22.0  12.2875\n"
          ]
        }
      ]
    },
    {
      "cell_type": "code",
      "source": [
        "# 13. Вивести 5 останніх рядків датасету\n",
        "print(\"\\nОстанні 5 рядків нового датасету:\")\n",
        "print(selected_data.tail())"
      ],
      "metadata": {
        "colab": {
          "base_uri": "https://localhost:8080/"
        },
        "id": "5ewr_BxQKq6F",
        "outputId": "eb65fded-8b66-47c3-bfc9-090a1711ffea"
      },
      "execution_count": 21,
      "outputs": [
        {
          "output_type": "stream",
          "name": "stdout",
          "text": [
            "\n",
            "Останні 5 рядків нового датасету:\n",
            "     Survived  Pclass Sex       Age      Fare\n",
            "413         0       3   0  30.27259    8.0500\n",
            "414         1       1   1  39.00000  108.9000\n",
            "415         0       3   0  38.50000    7.2500\n",
            "416         0       3   0  30.27259    8.0500\n",
            "417         0       3   0  30.27259   22.3583\n"
          ]
        }
      ]
    },
    {
      "cell_type": "code",
      "source": [
        "# 14. Аналіз виживання залежно від статі\n",
        "survival_by_sex = selected_data.groupby('Sex')['Survived'].mean() * 100\n",
        "print(\"\\nВідсоток виживання залежно від статі:\")\n",
        "print(survival_by_sex)"
      ],
      "metadata": {
        "colab": {
          "base_uri": "https://localhost:8080/"
        },
        "id": "-vjaOvKcKvtF",
        "outputId": "b8d36d95-ff31-47e8-e752-382f747936fc"
      },
      "execution_count": 22,
      "outputs": [
        {
          "output_type": "stream",
          "name": "stdout",
          "text": [
            "\n",
            "Відсоток виживання залежно від статі:\n",
            "Sex\n",
            "0      0.0\n",
            "1    100.0\n",
            "Name: Survived, dtype: float64\n"
          ]
        }
      ]
    },
    {
      "cell_type": "code",
      "source": [
        "# 15. Відсоток виживання для кожного класу (Pclass)\n",
        "survival_by_class = selected_data.groupby('Pclass')['Survived'].mean() * 100\n",
        "print(\"\\nВідсоток виживання залежно від класу:\")\n",
        "print(survival_by_class)"
      ],
      "metadata": {
        "colab": {
          "base_uri": "https://localhost:8080/"
        },
        "id": "RxTekIsBKw1C",
        "outputId": "d9b0831c-e843-4d75-f719-91c0aad1e30d"
      },
      "execution_count": 23,
      "outputs": [
        {
          "output_type": "stream",
          "name": "stdout",
          "text": [
            "\n",
            "Відсоток виживання залежно від класу:\n",
            "Pclass\n",
            "1    46.728972\n",
            "2    32.258065\n",
            "3    33.027523\n",
            "Name: Survived, dtype: float64\n"
          ]
        }
      ]
    },
    {
      "cell_type": "code",
      "source": [
        "# 16. Визначення середнього віку тих, хто вижив і не вижив\n",
        "mean_age_by_survival = selected_data.groupby('Survived')['Age'].mean()\n",
        "print(\"\\nСередній вік тих, хто вижив і не вижив:\")\n",
        "print(mean_age_by_survival)"
      ],
      "metadata": {
        "colab": {
          "base_uri": "https://localhost:8080/"
        },
        "id": "KVssSZ5AKx6X",
        "outputId": "c499c283-44f3-4302-82cd-59de66692af4"
      },
      "execution_count": 24,
      "outputs": [
        {
          "output_type": "stream",
          "name": "stdout",
          "text": [
            "\n",
            "Середній вік тих, хто вижив і не вижив:\n",
            "Survived\n",
            "0    30.272699\n",
            "1    30.272400\n",
            "Name: Age, dtype: float64\n"
          ]
        }
      ]
    },
    {
      "cell_type": "code",
      "source": [
        "# 17. Розподіл пасажирів на групи за рівнями тарифів і рівень виживання\n",
        "selected_data.loc[:, 'FareGroup'] = pd.qcut(selected_data['Fare'], 4, duplicates='drop')\n",
        "survival_by_fare = selected_data.groupby('FareGroup', observed=True)['Survived'].mean() * 100\n",
        "print(\"\\nВідсоток виживання залежно від тарифу:\")\n",
        "print(survival_by_fare)\n",
        "\n",
        "selected_data = selected_data.drop(columns=['FareGroup'])"
      ],
      "metadata": {
        "colab": {
          "base_uri": "https://localhost:8080/"
        },
        "id": "xmlA6zotKzBW",
        "outputId": "91a7e6f9-f6ef-4515-fa62-878c2c562965"
      },
      "execution_count": 25,
      "outputs": [
        {
          "output_type": "stream",
          "name": "stdout",
          "text": [
            "\n",
            "Відсоток виживання залежно від тарифу:\n",
            "FareGroup\n",
            "(-0.001, 7.896]    26.315789\n",
            "(7.896, 14.454]    27.083333\n",
            "(14.454, 31.5]     39.047619\n",
            "(31.5, 512.329]    53.398058\n",
            "Name: Survived, dtype: float64\n"
          ]
        }
      ]
    },
    {
      "cell_type": "code",
      "source": [
        "# 18. Середній тариф (Fare) для кожного класу (Pclass)\n",
        "mean_fare_by_class = selected_data.groupby('Pclass')['Fare'].mean()\n",
        "print(\"\\nСередній тариф залежно від класу:\")\n",
        "print(mean_fare_by_class)"
      ],
      "metadata": {
        "colab": {
          "base_uri": "https://localhost:8080/"
        },
        "id": "BrsOftWVK13A",
        "outputId": "eab65be1-9972-4f33-a80b-7630d1761cde"
      },
      "execution_count": 26,
      "outputs": [
        {
          "output_type": "stream",
          "name": "stdout",
          "text": [
            "\n",
            "Середній тариф залежно від класу:\n",
            "Pclass\n",
            "1    94.280297\n",
            "2    22.202104\n",
            "3    12.565951\n",
            "Name: Fare, dtype: float64\n"
          ]
        }
      ]
    },
    {
      "cell_type": "code",
      "source": [
        "# 19. Середній вік пасажирів для кожного класу (Pclass)\n",
        "mean_age_by_class = selected_data.groupby('Pclass')['Age'].mean()\n",
        "print(\"\\nСередній вік пасажирів залежно від класу:\")\n",
        "print(mean_age_by_class)"
      ],
      "metadata": {
        "colab": {
          "base_uri": "https://localhost:8080/"
        },
        "id": "oR4Iv8pKK3Op",
        "outputId": "6fa1e912-019b-4b7b-ffd7-16acfa4a6711"
      },
      "execution_count": 27,
      "outputs": [
        {
          "output_type": "stream",
          "name": "stdout",
          "text": [
            "\n",
            "Середній вік пасажирів залежно від класу:\n",
            "Pclass\n",
            "1    40.022928\n",
            "2    28.857881\n",
            "3    26.090397\n",
            "Name: Age, dtype: float64\n"
          ]
        }
      ]
    },
    {
      "cell_type": "code",
      "source": [
        "# 20. Побудова гістограми розподілу віку для тих, хто вижив, і тих, хто не вижив\n",
        "import matplotlib.pyplot as plt\n",
        "\n",
        "plt.figure(figsize=(10, 6))\n",
        "selected_data[selected_data['Survived'] == 1]['Age'].hist(alpha=0.5, color='blue', bins=30, label='Survived')\n",
        "selected_data[selected_data['Survived'] == 0]['Age'].hist(alpha=0.5, color='red', bins=30, label='Not Survived')\n",
        "plt.legend()\n",
        "plt.title('Розподіл віку для тих, хто вижив, і тих, хто не вижив')\n",
        "plt.xlabel('Вік')\n",
        "plt.ylabel('Кількість')\n",
        "plt.show()"
      ],
      "metadata": {
        "colab": {
          "base_uri": "https://localhost:8080/",
          "height": 564
        },
        "id": "VvQY0nUeK4Z_",
        "outputId": "b3c4037e-997f-47b1-c8b8-92d5199c449c"
      },
      "execution_count": 28,
      "outputs": [
        {
          "output_type": "display_data",
          "data": {
            "text/plain": [
              "<Figure size 1000x600 with 1 Axes>"
            ],
            "image/png": "[encoded data removed]"
          },
          "metadata": {}
        }
      ]
    },
    {
      "cell_type": "code",
      "source": [
        "# 21. Відсоток виживання для кожної комбінації статі та класу\n",
        "survival_by_sex_class = selected_data.groupby(['Sex', 'Pclass'])['Survived'].mean() * 100\n",
        "print(\"\\nВідсоток виживання залежно від статі та класу:\")\n",
        "print(survival_by_sex_class)"
      ],
      "metadata": {
        "colab": {
          "base_uri": "https://localhost:8080/"
        },
        "id": "6A2oTGaZK5mC",
        "outputId": "ce794d99-4b3c-4258-d165-1426081f8acc"
      },
      "execution_count": 29,
      "outputs": [
        {
          "output_type": "stream",
          "name": "stdout",
          "text": [
            "\n",
            "Відсоток виживання залежно від статі та класу:\n",
            "Sex  Pclass\n",
            "0    1           0.0\n",
            "     2           0.0\n",
            "     3           0.0\n",
            "1    1         100.0\n",
            "     2         100.0\n",
            "     3         100.0\n",
            "Name: Survived, dtype: float64\n"
          ]
        }
      ]
    },
    {
      "cell_type": "code",
      "source": [
        "\n",
        "# 22. Кореляція між усіма числовими змінними\n",
        "correlation_matrix = selected_data.corr()\n",
        "print(\"\\nКореляція між числовими змінними:\")\n",
        "print(correlation_matrix)\n",
        "\n",
        "survival_correlation = correlation_matrix['Survived'].sort_values(ascending=False)\n",
        "print(\"\\nКореляція змінних з виживанням:\")\n",
        "print(survival_correlation)"
      ],
      "metadata": {
        "colab": {
          "base_uri": "https://localhost:8080/"
        },
        "id": "dMgcMI1BK6Ze",
        "outputId": "6c9433e8-d3f6-4bb4-d701-66156dcc5bf0"
      },
      "execution_count": 30,
      "outputs": [
        {
          "output_type": "stream",
          "name": "stdout",
          "text": [
            "\n",
            "Кореляція між числовими змінними:\n",
            "          Survived    Pclass       Sex       Age      Fare\n",
            "Survived  1.000000 -0.108615  1.000000 -0.000011  0.191382\n",
            "Pclass   -0.108615  1.000000 -0.108615 -0.440782 -0.576619\n",
            "Sex       1.000000 -0.108615  1.000000 -0.000011  0.191382\n",
            "Age      -0.000011 -0.440782 -0.000011  1.000000  0.326800\n",
            "Fare      0.191382 -0.576619  0.191382  0.326800  1.000000\n",
            "\n",
            "Кореляція змінних з виживанням:\n",
            "Survived    1.000000\n",
            "Sex         1.000000\n",
            "Fare        0.191382\n",
            "Age        -0.000011\n",
            "Pclass     -0.108615\n",
            "Name: Survived, dtype: float64\n"
          ]
        }
      ]
    }
  ]
}