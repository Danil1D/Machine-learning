{
  "nbformat": 4,
  "nbformat_minor": 0,
  "metadata": {
    "colab": {
      "provenance": [],
      "authorship_tag": "ABX9TyNjiuszRLBTqvLU50+xUHA4",
      "include_colab_link": true
    },
    "kernelspec": {
      "name": "python3",
      "display_name": "Python 3"
    },
    "language_info": {
      "name": "python"
    }
  },
  "cells": [
    {
      "cell_type": "markdown",
      "metadata": {
        "id": "view-in-github",
        "colab_type": "text"
      },
      "source": [
        "<a href=\"https://colab.research.google.com/github/Danil1D/Machine-learning/blob/main/%D0%94%D0%B0%D1%88%D0%BA%D0%B5%D0%B2%D0%B8%D1%87_%D0%94%D0%B0%D0%BD%D0%B8%D0%BB%D0%BE_%D0%91%D1%96%D0%BB%D0%B5%D1%82_2.ipynb\" target=\"_parent\"><img src=\"https://colab.research.google.com/assets/colab-badge.svg\" alt=\"Open In Colab\"/></a>"
      ]
    },
    {
      "cell_type": "markdown",
      "source": [
        "1. Основні функції бібліотеки Pandas:\n",
        "\n",
        "DataFrame та Series: основні структури для зберігання та обробки даних.\n",
        "Читання та запис даних: функції, такі як pd.read_csv(), pd.to_csv() для роботи з файлами CSV, Excel та іншими форматами.\n",
        "Фільтрація та сортування даних: методи для відбору рядків і стовпців, а також для сортування даних за певним критерієм.\n",
        "Обробка відсутніх даних: fillna(), dropna() дозволяють заповнювати або видаляти відсутні значення.\n",
        "Агрегація та групування: методи groupby() та agg() дозволяють обчислювати різні статистичні показники.\n",
        "Злиття та з'єднання таблиць: merge(), join() дозволяють об'єднувати дані з кількох джерел.\n"
      ],
      "metadata": {
        "id": "vzvrlC_pYgLh"
      }
    },
    {
      "cell_type": "markdown",
      "source": [
        "2. Методи оптимізації нейронних мереж:\n",
        "\n",
        "Стохастичний градієнтний спуск (SGD): класичний метод оптимізації, який оновлює ваги після кожного прикладу.\n",
        "Адам (Adam): адаптивний метод оптимізації, який враховує історію градієнтів і регулює швидкість навчання для кожного параметра.\n",
        "RMSprop: метод, який розділяє градієнти на середнє значення недавніх квадратичних градієнтів, що запобігає великим коливанням.\n",
        "Регуляризація (L1, L2): запобігає перенавчанню, додаючи штраф за ваги у функцію втрат.\n",
        "Раннє завершення (Early Stopping): припиняє навчання, якщо функція втрат на валідаційній вибірці перестає зменшуватися.\n",
        "Ці методи широко використовуються в нейронних мережах для прискорення навчання та уникнення перенавчання."
      ],
      "metadata": {
        "id": "GOMKohR9Yf9M"
      }
    },
    {
      "cell_type": "code",
      "execution_count": 2,
      "metadata": {
        "colab": {
          "base_uri": "https://localhost:8080/"
        },
        "id": "5dfpDgPfXq02",
        "outputId": "f32d47ed-2af7-49dc-bb0d-b7f782dcf398"
      },
      "outputs": [
        {
          "output_type": "stream",
          "name": "stdout",
          "text": [
            "Перші 10 рядків таблиці:\n",
            "   PassengerId  Survived  Pclass  \\\n",
            "0          892         0       3   \n",
            "1          893         1       3   \n",
            "2          894         0       2   \n",
            "3          895         0       3   \n",
            "4          896         1       3   \n",
            "5          897         0       3   \n",
            "6          898         1       3   \n",
            "7          899         0       2   \n",
            "8          900         1       3   \n",
            "9          901         0       3   \n",
            "\n",
            "                                           Name     Sex   Age  SibSp  Parch  \\\n",
            "0                              Kelly, Mr. James    male  34.5      0      0   \n",
            "1              Wilkes, Mrs. James (Ellen Needs)  female  47.0      1      0   \n",
            "2                     Myles, Mr. Thomas Francis    male  62.0      0      0   \n",
            "3                              Wirz, Mr. Albert    male  27.0      0      0   \n",
            "4  Hirvonen, Mrs. Alexander (Helga E Lindqvist)  female  22.0      1      1   \n",
            "5                    Svensson, Mr. Johan Cervin    male  14.0      0      0   \n",
            "6                          Connolly, Miss. Kate  female  30.0      0      0   \n",
            "7                  Caldwell, Mr. Albert Francis    male  26.0      1      1   \n",
            "8     Abrahim, Mrs. Joseph (Sophie Halaut Easu)  female  18.0      0      0   \n",
            "9                       Davies, Mr. John Samuel    male  21.0      2      0   \n",
            "\n",
            "      Ticket     Fare Cabin Embarked  \n",
            "0     330911   7.8292   NaN        Q  \n",
            "1     363272   7.0000   NaN        S  \n",
            "2     240276   9.6875   NaN        Q  \n",
            "3     315154   8.6625   NaN        S  \n",
            "4    3101298  12.2875   NaN        S  \n",
            "5       7538   9.2250   NaN        S  \n",
            "6     330972   7.6292   NaN        Q  \n",
            "7     248738  29.0000   NaN        S  \n",
            "8       2657   7.2292   NaN        C  \n",
            "9  A/4 48871  24.1500   NaN        S  \n",
            "\n",
            "Розмір таблиці:\n",
            "(418, 12)\n",
            "\n",
            "Типи даних у таблиці:\n",
            "PassengerId      int64\n",
            "Survived         int64\n",
            "Pclass           int64\n",
            "Name            object\n",
            "Sex             object\n",
            "Age            float64\n",
            "SibSp            int64\n",
            "Parch            int64\n",
            "Ticket          object\n",
            "Fare           float64\n",
            "Cabin           object\n",
            "Embarked        object\n",
            "dtype: object\n"
          ]
        }
      ],
      "source": [
        "import pandas as pd\n",
        "data = pd.read_csv('titanic.csv')\n",
        "\n",
        "print(\"Перші 10 рядків таблиці:\")\n",
        "print(data.head(10))\n",
        "\n",
        "print(\"\\nРозмір таблиці:\")\n",
        "print(data.shape)\n",
        "\n",
        "print(\"\\nТипи даних у таблиці:\")\n",
        "print(data.dtypes)\n"
      ]
    },
    {
      "cell_type": "markdown",
      "source": [],
      "metadata": {
        "id": "j0iiwjYCYeEG"
      }
    }
  ]
}