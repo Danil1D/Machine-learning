{
  "nbformat": 4,
  "nbformat_minor": 0,
  "metadata": {
    "colab": {
      "provenance": [],
      "authorship_tag": "ABX9TyOVTAc27YrqzwYPZVIfUUEE",
      "include_colab_link": true
    },
    "kernelspec": {
      "name": "python3",
      "display_name": "Python 3"
    },
    "language_info": {
      "name": "python"
    }
  },
  "cells": [
    {
      "cell_type": "markdown",
      "metadata": {
        "id": "view-in-github",
        "colab_type": "text"
      },
      "source": [
        "<a href=\"https://colab.research.google.com/github/Danil1D/Machine-learning/blob/main/%D0%94%D0%B0%D1%88%D0%BA%D0%B5%D0%B2%D0%B8%D1%87_%D0%BB%D0%B0%D0%B1%E2%84%961_%D0%B2%D0%B0%D1%80%D1%96%D0%B0%D0%BD%D1%82_%E2%84%968.ipynb\" target=\"_parent\"><img src=\"https://colab.research.google.com/assets/colab-badge.svg\" alt=\"Open In Colab\"/></a>"
      ]
    },
    {
      "cell_type": "markdown",
      "source": [
        "Завдання 1.\n",
        "Створіть одновимірний масив (вектор) зі спадаючою послідовністю чисел, де кожне наступне число менше попереднього на 2, починаючи з 30, та виведіть його значення."
      ],
      "metadata": {
        "id": "Y9srf54bxQt3"
      }
    },
    {
      "cell_type": "code",
      "execution_count": 2,
      "metadata": {
        "colab": {
          "base_uri": "https://localhost:8080/"
        },
        "id": "0TBIvY1erMtE",
        "outputId": "b2334175-83d3-4317-d413-4652accb29fa"
      },
      "outputs": [
        {
          "output_type": "execute_result",
          "data": {
            "text/plain": [
              "array([30, 28, 26, 24, 22, 20, 18, 16, 14, 12, 10,  8,  6,  4,  2,  0])"
            ]
          },
          "metadata": {},
          "execution_count": 2
        }
      ],
      "source": [
        "import numpy as np\n",
        "\n",
        "vector = np.arange(30, -2, -2)\n",
        "\n",
        "vector\n"
      ]
    },
    {
      "cell_type": "markdown",
      "source": [
        "Завдання 2. Створіть двовимірний масив (матрицю) розміром 3x3, заповніть його значеннями факторіалів натуральних чисел, починаючи з 1, та виведіть його значення."
      ],
      "metadata": {
        "id": "dZspI8o3wAIZ"
      }
    },
    {
      "cell_type": "code",
      "source": [
        "import numpy as np\n",
        "import math\n",
        "\n",
        "factorials = [math.factorial(i) for i in range(1, 10)]\n",
        "\n",
        "matrix = np.array(factorials).reshape(3, 3)\n",
        "\n",
        "matrix\n"
      ],
      "metadata": {
        "colab": {
          "base_uri": "https://localhost:8080/"
        },
        "id": "6R5DHwcDv7nu",
        "outputId": "179f4243-1f75-4999-9701-ca9617fc6159"
      },
      "execution_count": 3,
      "outputs": [
        {
          "output_type": "execute_result",
          "data": {
            "text/plain": [
              "array([[     1,      2,      6],\n",
              "       [    24,    120,    720],\n",
              "       [  5040,  40320, 362880]])"
            ]
          },
          "metadata": {},
          "execution_count": 3
        }
      ]
    },
    {
      "cell_type": "markdown",
      "source": [
        "Завдання 3. Створіть масив розміром 4x4, заповніть його випадковими цілими числами від 1 до 10 та виведіть його значення."
      ],
      "metadata": {
        "id": "72_rKifhxY9c"
      }
    },
    {
      "cell_type": "code",
      "source": [
        "random_matrix = np.random.randint(1, 11, size=(4, 4))\n",
        "\n",
        "random_matrix\n"
      ],
      "metadata": {
        "colab": {
          "base_uri": "https://localhost:8080/"
        },
        "id": "Q6-0GuoHv5tl",
        "outputId": "8880329e-c16f-4740-9c12-90fb59b60173"
      },
      "execution_count": 4,
      "outputs": [
        {
          "output_type": "execute_result",
          "data": {
            "text/plain": [
              "array([[ 4,  8,  4,  7],\n",
              "       [ 4, 10,  5,  5],\n",
              "       [ 2,  6,  2,  3],\n",
              "       [ 3,  7, 10,  2]])"
            ]
          },
          "metadata": {},
          "execution_count": 4
        }
      ]
    },
    {
      "cell_type": "markdown",
      "source": [
        "Завдання 4. Створіть масив розміром 6x6, заповніть його випадковими дійсними числами в діапазоні від 0 до 1 та обчисліть суму всіх діагональних елементів."
      ],
      "metadata": {
        "id": "H6wX4PRzy7Is"
      }
    },
    {
      "cell_type": "code",
      "source": [
        "import numpy as np\n",
        "\n",
        "matrix = np.random.uniform(0, 1, (6, 6))\n",
        "\n",
        "main_diagonal_sum = np.trace(matrix)\n",
        "\n",
        "anti_diagonal_sum = np.trace(np.fliplr(matrix))\n",
        "\n",
        "total_diagonal_sum = main_diagonal_sum + anti_diagonal_sum - matrix[2, 2]\n",
        "\n",
        "print(\"Matrix:\")\n",
        "print(matrix)\n",
        "print(\"Sum of main diagonal elements:\", main_diagonal_sum)\n",
        "print(\"Sum of anti-diagonal elements:\", anti_diagonal_sum)\n",
        "print(\"Total sum of diagonal elements:\", total_diagonal_sum)"
      ],
      "metadata": {
        "colab": {
          "base_uri": "https://localhost:8080/"
        },
        "id": "DOttkOeYzDZT",
        "outputId": "1b0d567c-5d40-4cec-ef18-85abf69b9a96"
      },
      "execution_count": 7,
      "outputs": [
        {
          "output_type": "stream",
          "name": "stdout",
          "text": [
            "Matrix:\n",
            "[[0.12573401 0.88639021 0.29242504 0.03251596 0.27156027 0.8704827 ]\n",
            " [0.82963558 0.01822747 0.42251586 0.04520175 0.3552077  0.45236402]\n",
            " [0.55029059 0.98765298 0.55640069 0.8272628  0.8694888  0.43036884]\n",
            " [0.70109789 0.97659015 0.81825432 0.71140824 0.8609771  0.80068397]\n",
            " [0.69035835 0.31900217 0.33004438 0.92661374 0.63684376 0.54517125]\n",
            " [0.87979277 0.252334   0.75542266 0.37801751 0.36827772 0.76991649]]\n",
            "Sum of main diagonal elements: 2.8185306638201286\n",
            "Sum of anti-diagonal elements: 4.0700024482333985\n",
            "Total sum of diagonal elements: 6.332132425846516\n"
          ]
        }
      ]
    },
    {
      "cell_type": "markdown",
      "source": [
        "Завдання 5. Створіть два одновимірних масиви розміром 4, заповніть їх випадковими дійсними числами від -10 до 10 та виконайте на них поелементні операції додавання, віднімання та множення."
      ],
      "metadata": {
        "id": "BSCPDaXm1Ke9"
      }
    },
    {
      "cell_type": "code",
      "source": [
        "import numpy as np\n",
        "\n",
        "array1 = np.random.uniform(-10, 10, 4)\n",
        "array2 = np.random.uniform(-10, 10, 4)\n",
        "\n",
        "addition = array1 + array2\n",
        "subtraction = array1 - array2\n",
        "multiplication = array1 * array2\n",
        "\n",
        "print(\"Array 1:\", array1)\n",
        "print(\"Array 2:\", array2)\n",
        "print(\"Addition:\", addition)\n",
        "print(\"Subtraction:\", subtraction)\n",
        "print(\"Multiplication:\", multiplication)\n"
      ],
      "metadata": {
        "colab": {
          "base_uri": "https://localhost:8080/"
        },
        "id": "dGucuqI-1QEz",
        "outputId": "5428852f-1e82-4c16-a267-ec2ada1b63f7"
      },
      "execution_count": 8,
      "outputs": [
        {
          "output_type": "stream",
          "name": "stdout",
          "text": [
            "Array 1: [ 1.7095399  -6.19711856 -3.19596282  4.91864149]\n",
            "Array 2: [-4.62242943  6.66138525 -5.85156229  3.15117109]\n",
            "Addition: [-2.91288953  0.46426669 -9.04752511  8.06981258]\n",
            "Subtraction: [  6.33196934 -12.85850381   2.65559947   1.7674704 ]\n",
            "Multiplication: [ -7.90222756 -41.28139418  18.7013755   15.49948088]\n"
          ]
        }
      ]
    },
    {
      "cell_type": "markdown",
      "source": [
        "Завдання 6. Створіть дві матриці 4x4, заповніть їх довільними цілими числами від 1 до 5 та знайдіть їх добуток."
      ],
      "metadata": {
        "id": "_77c2a6s1mIt"
      }
    },
    {
      "cell_type": "code",
      "source": [
        "import numpy as np\n",
        "\n",
        "matrix1 = np.random.randint(1, 6, (4, 4))\n",
        "matrix2 = np.random.randint(1, 6, (4, 4))\n",
        "\n",
        "product = np.dot(matrix1, matrix2)\n",
        "\n",
        "print(\"Matrix 1:\")\n",
        "print(matrix1)\n",
        "print(\"\\nMatrix 2:\")\n",
        "print(matrix2)\n",
        "print(\"\\nProduct of Matrix 1 and Matrix 2:\")\n",
        "print(product)\n"
      ],
      "metadata": {
        "colab": {
          "base_uri": "https://localhost:8080/"
        },
        "id": "U7XwAI_o1tY9",
        "outputId": "f5ede815-cb11-4139-f505-1869e7d4ed11"
      },
      "execution_count": 9,
      "outputs": [
        {
          "output_type": "stream",
          "name": "stdout",
          "text": [
            "Matrix 1:\n",
            "[[2 2 1 2]\n",
            " [1 1 3 1]\n",
            " [3 4 5 5]\n",
            " [2 4 5 4]]\n",
            "\n",
            "Matrix 2:\n",
            "[[4 1 1 1]\n",
            " [4 5 3 1]\n",
            " [2 2 5 2]\n",
            " [4 5 4 2]]\n",
            "\n",
            "Product of Matrix 1 and Matrix 2:\n",
            "[[26 24 21 10]\n",
            " [18 17 23 10]\n",
            " [58 58 60 27]\n",
            " [50 52 55 24]]\n"
          ]
        }
      ]
    },
    {
      "cell_type": "markdown",
      "source": [
        "Завдання 7. Створіть дві матриці розміром 2x3 та 3x3, заповніть їх випадковими цілими числами в діапазоні від 1 до 4 та перемножте їх між собою."
      ],
      "metadata": {
        "id": "YuMxFYap2qiY"
      }
    },
    {
      "cell_type": "code",
      "source": [
        "import numpy as np\n",
        "\n",
        "matrix1 = np.random.randint(1, 5, (2, 3))\n",
        "\n",
        "matrix2 = np.random.randint(1, 5, (3, 3))\n",
        "\n",
        "product = np.dot(matrix1, matrix2)\n",
        "\n",
        "# Виведення результатів\n",
        "print(\"Matrix 1 (2x3):\")\n",
        "print(matrix1)\n",
        "print(\"\\nMatrix 2 (3x3):\")\n",
        "print(matrix2)\n",
        "print(\"\\nProduct of Matrix 1 and Matrix 2:\")\n",
        "print(product)\n"
      ],
      "metadata": {
        "colab": {
          "base_uri": "https://localhost:8080/"
        },
        "id": "SmQPbwLT24yX",
        "outputId": "6ab1cbfd-16e1-4531-fa44-eccfd013f168"
      },
      "execution_count": 10,
      "outputs": [
        {
          "output_type": "stream",
          "name": "stdout",
          "text": [
            "Matrix 1 (2x3):\n",
            "[[4 1 3]\n",
            " [1 1 1]]\n",
            "\n",
            "Matrix 2 (3x3):\n",
            "[[1 2 1]\n",
            " [3 3 4]\n",
            " [3 3 1]]\n",
            "\n",
            "Product of Matrix 1 and Matrix 2:\n",
            "[[16 20 11]\n",
            " [ 7  8  6]]\n"
          ]
        }
      ]
    },
    {
      "cell_type": "markdown",
      "source": [
        "Завдання 8. Створіть матрицю розміром 3x3, заповніть її випадковими цілими числами в діапазоні від 1 до 7 та знайдіть її обернену матрицю."
      ],
      "metadata": {
        "id": "tdPzMc1h3CiL"
      }
    },
    {
      "cell_type": "code",
      "source": [
        "import numpy as np\n",
        "\n",
        "matrix = np.random.randint(1, 8, (3, 3))\n",
        "\n",
        "print(\"Matrix:\")\n",
        "print(matrix)\n",
        "\n",
        "if np.linalg.det(matrix) != 0:\n",
        "    inverse_matrix = np.linalg.inv(matrix)\n",
        "    print(\"\\nInverse Matrix:\")\n",
        "    print(inverse_matrix)\n",
        "else:\n",
        "    print(\"\\nThe matrix is singular and does not have an inverse.\")\n"
      ],
      "metadata": {
        "colab": {
          "base_uri": "https://localhost:8080/"
        },
        "id": "t89IT5eA3IiE",
        "outputId": "2a419452-6f1c-4a80-f4b3-79fa3b5ff340"
      },
      "execution_count": 11,
      "outputs": [
        {
          "output_type": "stream",
          "name": "stdout",
          "text": [
            "Matrix:\n",
            "[[4 1 2]\n",
            " [5 5 5]\n",
            " [4 3 7]]\n",
            "\n",
            "Inverse Matrix:\n",
            "[[ 0.36363636 -0.01818182 -0.09090909]\n",
            " [-0.27272727  0.36363636 -0.18181818]\n",
            " [-0.09090909 -0.14545455  0.27272727]]\n"
          ]
        }
      ]
    },
    {
      "cell_type": "markdown",
      "source": [
        "Завдання 9. Створіть матрицю розміром 5x5, заповніть її випадковими дійсними числами в діапазоні від -5 до 5 та транспонуйте її."
      ],
      "metadata": {
        "id": "jkmRNQ6k3zsZ"
      }
    },
    {
      "cell_type": "code",
      "source": [
        "import numpy as np\n",
        "\n",
        "matrix = np.random.uniform(-5, 5, (5, 5))\n",
        "\n",
        "transposed_matrix = np.transpose(matrix)\n",
        "\n",
        "print(\"Original Matrix (5x5):\")\n",
        "print(matrix)\n",
        "print(\"\\nTransposed Matrix (5x5):\")\n",
        "print(transposed_matrix)\n"
      ],
      "metadata": {
        "colab": {
          "base_uri": "https://localhost:8080/"
        },
        "id": "MQ5HhBXi39EB",
        "outputId": "c2c35389-45ae-48ec-8ce3-04f49d7c5227"
      },
      "execution_count": 12,
      "outputs": [
        {
          "output_type": "stream",
          "name": "stdout",
          "text": [
            "Original Matrix (5x5):\n",
            "[[-0.57888077  4.59543094  1.44494474 -2.55102958  2.39099533]\n",
            " [-1.45890798 -1.38212552 -0.11958377  2.89699124 -4.62571707]\n",
            " [-2.71016834 -1.5107572  -0.45828823  1.91660573 -0.17935005]\n",
            " [-2.79219816  4.50148661  4.00895773  2.16406058 -1.84363433]\n",
            " [-2.44627124  1.6093902  -3.46007063 -0.51534928 -0.58042086]]\n",
            "\n",
            "Transposed Matrix (5x5):\n",
            "[[-0.57888077 -1.45890798 -2.71016834 -2.79219816 -2.44627124]\n",
            " [ 4.59543094 -1.38212552 -1.5107572   4.50148661  1.6093902 ]\n",
            " [ 1.44494474 -0.11958377 -0.45828823  4.00895773 -3.46007063]\n",
            " [-2.55102958  2.89699124  1.91660573  2.16406058 -0.51534928]\n",
            " [ 2.39099533 -4.62571707 -0.17935005 -1.84363433 -0.58042086]]\n"
          ]
        }
      ]
    },
    {
      "cell_type": "markdown",
      "source": [
        "Завдання 10. Створіть матрицю розміром 3x4 та вектор розміром 4x1, заповніть матрицю випадковими цілими числами в діапазоні від 1 до 10, а вектор - випадковими дійсними числами від 0 до 1 і знайдіть добуток матриці на вектор."
      ],
      "metadata": {
        "id": "zhCt5z2v4Dvo"
      }
    },
    {
      "cell_type": "code",
      "source": [
        "import numpy as np\n",
        "\n",
        "matrix = np.random.randint(1, 11, (3, 4))\n",
        "\n",
        "vector = np.random.uniform(0, 1, (4, 1))\n",
        "\n",
        "product = np.dot(matrix, vector)\n",
        "\n",
        "print(\"Matrix (3x4):\")\n",
        "print(matrix)\n",
        "print(\"\\nVector (4x1):\")\n",
        "print(vector)\n",
        "print(\"\\nProduct of Matrix and Vector:\")\n",
        "print(product)\n"
      ],
      "metadata": {
        "colab": {
          "base_uri": "https://localhost:8080/"
        },
        "id": "_xAjb0xH4JTb",
        "outputId": "9a8c68f4-51c6-458e-cfeb-b25acde8734b"
      },
      "execution_count": 13,
      "outputs": [
        {
          "output_type": "stream",
          "name": "stdout",
          "text": [
            "Matrix (3x4):\n",
            "[[ 4  5  1 10]\n",
            " [ 2  7 10  6]\n",
            " [ 4  7  1  3]]\n",
            "\n",
            "Vector (4x1):\n",
            "[[0.54945233]\n",
            " [0.21048378]\n",
            " [0.3220407 ]\n",
            " [0.63487631]]\n",
            "\n",
            "Product of Matrix and Vector:\n",
            "[[9.92103202]\n",
            " [9.60195599]\n",
            " [5.89786542]]\n"
          ]
        }
      ]
    },
    {
      "cell_type": "markdown",
      "source": [
        "Завдання 11. Створіть матрицю розміром 2x3 та вектор розміром 3x1, заповніть матрицю випадковими дійсними числами від 0 до 1, а вектор - випадковими дійсними числами від 0 до 1, і знайдіть добуток матриці на вектор."
      ],
      "metadata": {
        "id": "qD0257fZ4RFl"
      }
    },
    {
      "cell_type": "code",
      "source": [
        "import numpy as np\n",
        "\n",
        "matrix = np.random.uniform(0, 1, (2, 3))\n",
        "\n",
        "vector = np.random.uniform(0, 1, (3, 1))\n",
        "\n",
        "product = np.dot(matrix, vector)\n",
        "\n",
        "print(\"Matrix (2x3):\")\n",
        "print(matrix)\n",
        "print(\"\\nVector (3x1):\")\n",
        "print(vector)\n",
        "print(\"\\nProduct of Matrix and Vector:\")\n",
        "print(product)\n"
      ],
      "metadata": {
        "colab": {
          "base_uri": "https://localhost:8080/"
        },
        "id": "LeIplOqn4Vft",
        "outputId": "b1b378c0-c80d-438a-d8d2-4d9c59395e5f"
      },
      "execution_count": 14,
      "outputs": [
        {
          "output_type": "stream",
          "name": "stdout",
          "text": [
            "Matrix (2x3):\n",
            "[[0.48733488 0.67698047 0.25948188]\n",
            " [0.2829007  0.85894276 0.86424272]]\n",
            "\n",
            "Vector (3x1):\n",
            "[[0.43740605]\n",
            " [0.01128153]\n",
            " [0.78379633]]\n",
            "\n",
            "Product of Matrix and Vector:\n",
            "[[0.42418155]\n",
            " [0.81082294]]\n"
          ]
        }
      ]
    },
    {
      "cell_type": "markdown",
      "source": [
        "Завдання 12. Створіть дві матриці розміром 9x9, заповніть їх випадковими цілими числами в діапазоні від 1 до 10 та знайдіть відношення елементів другої матриці до першої (поелементне ділення)."
      ],
      "metadata": {
        "id": "eRj49oxw4eT9"
      }
    },
    {
      "cell_type": "code",
      "source": [
        "import numpy as np\n",
        "\n",
        "matrix1 = np.random.randint(1, 11, (9, 9))\n",
        "matrix2 = np.random.randint(1, 11, (9, 9))\n",
        "\n",
        "ratio = matrix2 / matrix1\n",
        "\n",
        "# Виведення результатів\n",
        "print(\"Matrix 1 (9x9):\")\n",
        "print(matrix1)\n",
        "print(\"\\nMatrix 2 (9x9):\")\n",
        "print(matrix2)\n",
        "print(\"\\nRatio of Matrix 2 to Matrix 1:\")\n",
        "print(ratio)\n"
      ],
      "metadata": {
        "colab": {
          "base_uri": "https://localhost:8080/"
        },
        "id": "sFju_hTY4iVH",
        "outputId": "d40ad672-12bd-49e3-c772-0c07bb14d6be"
      },
      "execution_count": 15,
      "outputs": [
        {
          "output_type": "stream",
          "name": "stdout",
          "text": [
            "Matrix 1 (9x9):\n",
            "[[10  3  3  3  9  7  7 10  8]\n",
            " [ 6 10  9  5  2  7  4  1  2]\n",
            " [ 3  3  8  1  9  3  9  6  4]\n",
            " [ 9  7  9  4  5  4  9 10  8]\n",
            " [ 9  3  5  9  8  3  6  4  8]\n",
            " [ 5  6  5  9  9  5 10  6  3]\n",
            " [ 9  5 10  3 10  1  3 10  9]\n",
            " [ 8  8  4  6  1 10  5  9  5]\n",
            " [ 3  3  5  2  8  4  3  6  3]]\n",
            "\n",
            "Matrix 2 (9x9):\n",
            "[[ 3  9  1  4  2  2  5  7  6]\n",
            " [ 1  9  6  2  2  2  5  6  9]\n",
            " [ 9  5  6  6  9  1  7  7  2]\n",
            " [ 1  2  3  5  6  1 10  3  4]\n",
            " [ 7  5  8  7  6  5 10  2  6]\n",
            " [ 6  1  3  4  6  5  7  8  6]\n",
            " [ 5  7  1  4  3 10  7  9  5]\n",
            " [ 3  5  2  6  2  5 10  1  6]\n",
            " [10  7 10  8  5  3 10  3  8]]\n",
            "\n",
            "Ratio of Matrix 2 to Matrix 1:\n",
            "[[ 0.3         3.          0.33333333  1.33333333  0.22222222  0.28571429\n",
            "   0.71428571  0.7         0.75      ]\n",
            " [ 0.16666667  0.9         0.66666667  0.4         1.          0.28571429\n",
            "   1.25        6.          4.5       ]\n",
            " [ 3.          1.66666667  0.75        6.          1.          0.33333333\n",
            "   0.77777778  1.16666667  0.5       ]\n",
            " [ 0.11111111  0.28571429  0.33333333  1.25        1.2         0.25\n",
            "   1.11111111  0.3         0.5       ]\n",
            " [ 0.77777778  1.66666667  1.6         0.77777778  0.75        1.66666667\n",
            "   1.66666667  0.5         0.75      ]\n",
            " [ 1.2         0.16666667  0.6         0.44444444  0.66666667  1.\n",
            "   0.7         1.33333333  2.        ]\n",
            " [ 0.55555556  1.4         0.1         1.33333333  0.3        10.\n",
            "   2.33333333  0.9         0.55555556]\n",
            " [ 0.375       0.625       0.5         1.          2.          0.5\n",
            "   2.          0.11111111  1.2       ]\n",
            " [ 3.33333333  2.33333333  2.          4.          0.625       0.75\n",
            "   3.33333333  0.5         2.66666667]]\n"
          ]
        }
      ]
    },
    {
      "cell_type": "markdown",
      "source": [
        "Завдання 13. Створіть дві матриці розміром 9x9, заповніть їх випадковими цілими числами в діапазоні від 1 до 5 та знайдіть їх добуток."
      ],
      "metadata": {
        "id": "FwMv-VEK4nml"
      }
    },
    {
      "cell_type": "code",
      "source": [
        "import numpy as np\n",
        "\n",
        "matrix1 = np.random.randint(1, 6, (9, 9))\n",
        "matrix2 = np.random.randint(1, 6, (9, 9))\n",
        "\n",
        "product = matrix1 * matrix2\n",
        "\n",
        "print(\"Matrix 1 (9x9):\")\n",
        "print(matrix1)\n",
        "print(\"\\nMatrix 2 (9x9):\")\n",
        "print(matrix2)\n",
        "print(\"\\nElement-wise Product of Matrix 1 and Matrix 2:\")\n",
        "print(product)\n"
      ],
      "metadata": {
        "colab": {
          "base_uri": "https://localhost:8080/"
        },
        "id": "Dv6wagUG4sPH",
        "outputId": "0eebe1b0-78e2-44bc-98a6-8ba4f19b449e"
      },
      "execution_count": 16,
      "outputs": [
        {
          "output_type": "stream",
          "name": "stdout",
          "text": [
            "Matrix 1 (9x9):\n",
            "[[2 1 1 5 3 3 3 3 2]\n",
            " [5 1 3 4 2 5 4 4 5]\n",
            " [5 4 2 1 4 4 2 1 2]\n",
            " [1 3 2 5 5 3 1 3 4]\n",
            " [1 1 4 1 1 5 3 1 2]\n",
            " [5 2 3 2 1 3 2 2 4]\n",
            " [4 2 4 1 5 3 5 5 4]\n",
            " [5 2 3 2 2 3 4 2 3]\n",
            " [4 5 1 5 4 5 1 2 5]]\n",
            "\n",
            "Matrix 2 (9x9):\n",
            "[[2 2 3 2 2 2 3 3 2]\n",
            " [3 2 2 2 4 3 2 3 3]\n",
            " [3 3 5 3 3 2 1 3 2]\n",
            " [4 1 1 4 1 4 2 5 2]\n",
            " [5 4 3 3 1 2 3 5 1]\n",
            " [4 3 2 5 3 2 1 4 5]\n",
            " [3 5 3 1 5 4 3 4 2]\n",
            " [1 4 4 3 1 3 4 1 3]\n",
            " [1 4 4 3 4 5 1 3 2]]\n",
            "\n",
            "Element-wise Product of Matrix 1 and Matrix 2:\n",
            "[[ 4  2  3 10  6  6  9  9  4]\n",
            " [15  2  6  8  8 15  8 12 15]\n",
            " [15 12 10  3 12  8  2  3  4]\n",
            " [ 4  3  2 20  5 12  2 15  8]\n",
            " [ 5  4 12  3  1 10  9  5  2]\n",
            " [20  6  6 10  3  6  2  8 20]\n",
            " [12 10 12  1 25 12 15 20  8]\n",
            " [ 5  8 12  6  2  9 16  2  9]\n",
            " [ 4 20  4 15 16 25  1  6 10]]\n"
          ]
        }
      ]
    },
    {
      "cell_type": "markdown",
      "source": [
        "Завдання 14. Створіть матрицю розміром 3x3, заповніть її випадковими цілими числами в діапазоні від -5 до 5 та знайдіть середнє арифметичне значення елементів матриці."
      ],
      "metadata": {
        "id": "PSST4Pfy4zP3"
      }
    },
    {
      "cell_type": "code",
      "source": [
        "import numpy as np\n",
        "\n",
        "matrix = np.random.randint(-5, 6, (3, 3))\n",
        "\n",
        "mean_value = np.mean(matrix)\n",
        "\n",
        "print(\"Matrix (3x3):\")\n",
        "print(matrix)\n",
        "print(\"\\nMean value of the elements:\")\n",
        "print(mean_value)\n"
      ],
      "metadata": {
        "colab": {
          "base_uri": "https://localhost:8080/"
        },
        "id": "ESEKmMCp425L",
        "outputId": "36625c46-ccd9-4d28-dd09-7a9500dcbe15"
      },
      "execution_count": 17,
      "outputs": [
        {
          "output_type": "stream",
          "name": "stdout",
          "text": [
            "Matrix (3x3):\n",
            "[[-2  2  0]\n",
            " [-2  3  1]\n",
            " [ 0 -3  3]]\n",
            "\n",
            "Mean value of the elements:\n",
            "0.2222222222222222\n"
          ]
        }
      ]
    },
    {
      "cell_type": "markdown",
      "source": [
        "Завдання 15. Створіть матрицю розміром 10x10, заповніть її випадковими дійсними числами в діапазоні від -2 до 2 та знайдіть вектор-стовпчик, що містить найменше за модулем значення елементу у кожному рядку матриці."
      ],
      "metadata": {
        "id": "i7xZSjlL48ld"
      }
    },
    {
      "cell_type": "code",
      "source": [
        "import numpy as np\n",
        "\n",
        "matrix = np.random.uniform(-2, 2, (10, 10))\n",
        "\n",
        "min_abs_values = np.min(np.abs(matrix), axis=1)\n",
        "\n",
        "print(\"Matrix (10x10):\")\n",
        "print(matrix)\n",
        "print(\"\\nVector of minimum absolute values in each row:\")\n",
        "print(min_abs_values)\n"
      ],
      "metadata": {
        "colab": {
          "base_uri": "https://localhost:8080/"
        },
        "id": "GBbQmwTn5CKA",
        "outputId": "0cb15077-2fa2-4eeb-d200-29951ad640af"
      },
      "execution_count": 18,
      "outputs": [
        {
          "output_type": "stream",
          "name": "stdout",
          "text": [
            "Matrix (10x10):\n",
            "[[ 0.67341967  1.56461615 -1.71044012  1.4905333  -0.01187179 -1.68495322\n",
            "   0.71300572  1.43147937  0.20452016  1.68002027]\n",
            " [ 0.92383296  0.79097852  0.9294313   1.487858    1.10945293  0.32286908\n",
            "   0.77061067  1.5154242  -0.40692828  1.70486737]\n",
            " [ 0.75988372  0.91525662 -0.97631927 -1.82248659 -0.52838752  1.20849707\n",
            "  -0.23893052 -1.93283389  0.70349792  1.93076861]\n",
            " [-1.0509183  -0.8014107  -0.61742857 -1.57247313 -1.08793743 -1.93245314\n",
            "  -0.7123314   0.66537304  0.31608778 -0.83385628]\n",
            " [ 0.0829515   0.6537894   0.73093866 -0.38086518 -1.26267453  1.59881076\n",
            "  -0.84492081  0.32265354 -0.02738677  1.81326301]\n",
            " [ 1.54436995 -1.85943312  0.70250036  0.28335859 -1.09451153  1.63028706\n",
            "  -0.37975446  0.70012461  0.55141741  1.51853572]\n",
            " [-1.21604432  1.53296706 -1.39995169  0.93818423  0.83363868 -1.295929\n",
            "   0.19517472  1.35434129  0.66666351 -0.44028606]\n",
            " [ 0.92772027  0.66078188 -0.77005467  1.53228612 -1.20688601  0.85934397\n",
            "  -0.74492256  0.68719921 -1.95699565  0.64874403]\n",
            " [-1.30349331 -1.19098043 -0.15090867  1.54998614 -1.66327615  0.4742835\n",
            "   0.51845235  0.44549261 -0.61428054 -1.49340343]\n",
            " [-1.56469522 -0.10269105 -1.63495706 -1.86335887  1.92457371  1.35974632\n",
            "   1.64192225  0.55823289 -1.22776226 -0.81257583]]\n",
            "\n",
            "Vector of minimum absolute values in each row:\n",
            "[0.01187179 0.32286908 0.23893052 0.31608778 0.02738677 0.28335859\n",
            " 0.19517472 0.64874403 0.15090867 0.10269105]\n"
          ]
        }
      ]
    },
    {
      "cell_type": "markdown",
      "source": [
        "Я навчився створювати різні матриці, використовуючи numpy. Завдання включали поелементні операції, обчислення оберненої матриці, транспонування, а також аналіз статистичних характеристик, таких як середнє арифметичне та мінімальні значення за модулем. Це показує, як ефективно використовувати бібліотеку для математичних обчислень та аналізу даних."
      ],
      "metadata": {
        "id": "6W3g-uMi5FL3"
      }
    }
  ]
}